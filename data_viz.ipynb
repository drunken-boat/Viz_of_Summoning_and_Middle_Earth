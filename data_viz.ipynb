{
 "cells": [
  {
   "cell_type": "code",
   "execution_count": 13,
   "id": "94a41a10",
   "metadata": {},
   "outputs": [],
   "source": [
    "import folium\n",
    "import pandas as pd\n",
    "import geopandas as gpd"
   ]
  },
  {
   "cell_type": "code",
   "execution_count": 14,
   "id": "285cc2c6",
   "metadata": {},
   "outputs": [
    {
     "data": {
      "text/html": [
       "<div style=\"width:100%;\"><div style=\"position:relative;width:100%;height:0;padding-bottom:60%;\"><span style=\"color:#565656\">Make this Notebook Trusted to load map: File -> Trust Notebook</span><iframe srcdoc=\"&lt;!DOCTYPE html&gt;\n",
       "&lt;head&gt;    \n",
       "    &lt;meta http-equiv=&quot;content-type&quot; content=&quot;text/html; charset=UTF-8&quot; /&gt;\n",
       "    \n",
       "        &lt;script&gt;\n",
       "            L_NO_TOUCH = false;\n",
       "            L_DISABLE_3D = false;\n",
       "        &lt;/script&gt;\n",
       "    \n",
       "    &lt;style&gt;html, body {width: 100%;height: 100%;margin: 0;padding: 0;}&lt;/style&gt;\n",
       "    &lt;style&gt;#map {position:absolute;top:0;bottom:0;right:0;left:0;}&lt;/style&gt;\n",
       "    &lt;script src=&quot;https://cdn.jsdelivr.net/npm/leaflet@1.6.0/dist/leaflet.js&quot;&gt;&lt;/script&gt;\n",
       "    &lt;script src=&quot;https://code.jquery.com/jquery-1.12.4.min.js&quot;&gt;&lt;/script&gt;\n",
       "    &lt;script src=&quot;https://maxcdn.bootstrapcdn.com/bootstrap/3.2.0/js/bootstrap.min.js&quot;&gt;&lt;/script&gt;\n",
       "    &lt;script src=&quot;https://cdnjs.cloudflare.com/ajax/libs/Leaflet.awesome-markers/2.0.2/leaflet.awesome-markers.js&quot;&gt;&lt;/script&gt;\n",
       "    &lt;link rel=&quot;stylesheet&quot; href=&quot;https://cdn.jsdelivr.net/npm/leaflet@1.6.0/dist/leaflet.css&quot;/&gt;\n",
       "    &lt;link rel=&quot;stylesheet&quot; href=&quot;https://maxcdn.bootstrapcdn.com/bootstrap/3.2.0/css/bootstrap.min.css&quot;/&gt;\n",
       "    &lt;link rel=&quot;stylesheet&quot; href=&quot;https://maxcdn.bootstrapcdn.com/bootstrap/3.2.0/css/bootstrap-theme.min.css&quot;/&gt;\n",
       "    &lt;link rel=&quot;stylesheet&quot; href=&quot;https://maxcdn.bootstrapcdn.com/font-awesome/4.6.3/css/font-awesome.min.css&quot;/&gt;\n",
       "    &lt;link rel=&quot;stylesheet&quot; href=&quot;https://cdnjs.cloudflare.com/ajax/libs/Leaflet.awesome-markers/2.0.2/leaflet.awesome-markers.css&quot;/&gt;\n",
       "    &lt;link rel=&quot;stylesheet&quot; href=&quot;https://cdn.jsdelivr.net/gh/python-visualization/folium/folium/templates/leaflet.awesome.rotate.min.css&quot;/&gt;\n",
       "    \n",
       "            &lt;meta name=&quot;viewport&quot; content=&quot;width=device-width,\n",
       "                initial-scale=1.0, maximum-scale=1.0, user-scalable=no&quot; /&gt;\n",
       "            &lt;style&gt;\n",
       "                #map_fead4f53e9718f9956b094cabf5691e5 {\n",
       "                    position: relative;\n",
       "                    width: 100.0%;\n",
       "                    height: 100.0%;\n",
       "                    left: 0.0%;\n",
       "                    top: 0.0%;\n",
       "                }\n",
       "            &lt;/style&gt;\n",
       "        \n",
       "&lt;/head&gt;\n",
       "&lt;body&gt;    \n",
       "    \n",
       "            &lt;div class=&quot;folium-map&quot; id=&quot;map_fead4f53e9718f9956b094cabf5691e5&quot; &gt;&lt;/div&gt;\n",
       "        \n",
       "&lt;/body&gt;\n",
       "&lt;script&gt;    \n",
       "    \n",
       "            var map_fead4f53e9718f9956b094cabf5691e5 = L.map(\n",
       "                &quot;map_fead4f53e9718f9956b094cabf5691e5&quot;,\n",
       "                {\n",
       "                    center: [52.5470612825, 8.8322798062],\n",
       "                    crs: L.CRS.EPSG3857,\n",
       "                    zoom: 5,\n",
       "                    zoomControl: true,\n",
       "                    preferCanvas: false,\n",
       "                }\n",
       "            );\n",
       "\n",
       "            \n",
       "\n",
       "        \n",
       "    \n",
       "            var tile_layer_686aea3d91dccd82e8335b7fe351449c = L.tileLayer(\n",
       "                &quot;https://{s}.tile.openstreetmap.org/{z}/{x}/{y}.png&quot;,\n",
       "                {&quot;attribution&quot;: &quot;Data by \\u0026copy; \\u003ca href=\\&quot;http://openstreetmap.org\\&quot;\\u003eOpenStreetMap\\u003c/a\\u003e, under \\u003ca href=\\&quot;http://www.openstreetmap.org/copyright\\&quot;\\u003eODbL\\u003c/a\\u003e.&quot;, &quot;detectRetina&quot;: false, &quot;maxNativeZoom&quot;: 18, &quot;maxZoom&quot;: 18, &quot;minZoom&quot;: 0, &quot;noWrap&quot;: false, &quot;opacity&quot;: 1, &quot;subdomains&quot;: &quot;abc&quot;, &quot;tms&quot;: false}\n",
       "            ).addTo(map_fead4f53e9718f9956b094cabf5691e5);\n",
       "        \n",
       "&lt;/script&gt;\" style=\"position:absolute;width:100%;height:100%;left:0;top:0;border:none !important;\" allowfullscreen webkitallowfullscreen mozallowfullscreen></iframe></div></div>"
      ],
      "text/plain": [
       "<folium.folium.Map at 0x1aaeaa530>"
      ]
     },
     "execution_count": 14,
     "metadata": {},
     "output_type": "execute_result"
    }
   ],
   "source": [
    "my_map = folium.Map(\n",
    "    location=[52.5470612825,8.8322798062],\n",
    "    zoom_start=5\n",
    ")\n",
    "my_map"
   ]
  },
  {
   "cell_type": "code",
   "execution_count": 15,
   "id": "3e4a9971",
   "metadata": {},
   "outputs": [
    {
     "data": {
      "text/html": [
       "<div>\n",
       "<style scoped>\n",
       "    .dataframe tbody tr th:only-of-type {\n",
       "        vertical-align: middle;\n",
       "    }\n",
       "\n",
       "    .dataframe tbody tr th {\n",
       "        vertical-align: top;\n",
       "    }\n",
       "\n",
       "    .dataframe thead th {\n",
       "        text-align: right;\n",
       "    }\n",
       "</style>\n",
       "<table border=\"1\" class=\"dataframe\">\n",
       "  <thead>\n",
       "    <tr style=\"text-align: right;\">\n",
       "      <th></th>\n",
       "      <th>Name</th>\n",
       "      <th>Type</th>\n",
       "      <th>Inhabitant</th>\n",
       "      <th>English</th>\n",
       "      <th>Westron</th>\n",
       "      <th>Quenya</th>\n",
       "      <th>Sindarin</th>\n",
       "      <th>Khuzdul</th>\n",
       "      <th>Rohirric</th>\n",
       "      <th>Other</th>\n",
       "      <th>SHAPE_Leng</th>\n",
       "      <th>SHAPE_Area</th>\n",
       "      <th>x</th>\n",
       "      <th>y</th>\n",
       "    </tr>\n",
       "  </thead>\n",
       "  <tbody>\n",
       "    <tr>\n",
       "      <th>0</th>\n",
       "      <td>Field of Celebrant</td>\n",
       "      <td>Field</td>\n",
       "      <td>NaN</td>\n",
       "      <td>Field of Celebrant; Field of \"Silverlode\"</td>\n",
       "      <td>NaN</td>\n",
       "      <td>NaN</td>\n",
       "      <td>[field of] Celebrant</td>\n",
       "      <td>NaN</td>\n",
       "      <td>NaN</td>\n",
       "      <td>NaN</td>\n",
       "      <td>3.727657e+05</td>\n",
       "      <td>2.598167e+09</td>\n",
       "      <td>48.686831</td>\n",
       "      <td>6.712481</td>\n",
       "    </tr>\n",
       "    <tr>\n",
       "      <th>1</th>\n",
       "      <td>Firienfeld</td>\n",
       "      <td>Flat upland</td>\n",
       "      <td>Rohirrim</td>\n",
       "      <td>Dunharrow</td>\n",
       "      <td>NaN</td>\n",
       "      <td>NaN</td>\n",
       "      <td>NaN</td>\n",
       "      <td>NaN</td>\n",
       "      <td>Firienfeld</td>\n",
       "      <td>NaN</td>\n",
       "      <td>4.367542e+03</td>\n",
       "      <td>1.376384e+06</td>\n",
       "      <td>45.530912</td>\n",
       "      <td>4.431309</td>\n",
       "    </tr>\n",
       "    <tr>\n",
       "      <th>2</th>\n",
       "      <td>Plateau of Gorgoroth</td>\n",
       "      <td>Plain</td>\n",
       "      <td>Sauron, Orcs, Men allied to Sauron</td>\n",
       "      <td>Plateau of \"horror/dread\"</td>\n",
       "      <td>NaN</td>\n",
       "      <td>NaN</td>\n",
       "      <td>[plateau of] Gorgoroth</td>\n",
       "      <td>NaN</td>\n",
       "      <td>NaN</td>\n",
       "      <td>NaN</td>\n",
       "      <td>5.635612e+06</td>\n",
       "      <td>3.640515e+10</td>\n",
       "      <td>43.736524</td>\n",
       "      <td>12.934796</td>\n",
       "    </tr>\n",
       "  </tbody>\n",
       "</table>\n",
       "</div>"
      ],
      "text/plain": [
       "                   Name         Type                          Inhabitant  \\\n",
       "0    Field of Celebrant        Field                                 NaN   \n",
       "1            Firienfeld  Flat upland                            Rohirrim   \n",
       "2  Plateau of Gorgoroth        Plain  Sauron, Orcs, Men allied to Sauron   \n",
       "\n",
       "                                     English Westron Quenya  \\\n",
       "0  Field of Celebrant; Field of \"Silverlode\"     NaN    NaN   \n",
       "1                                  Dunharrow     NaN    NaN   \n",
       "2                  Plateau of \"horror/dread\"     NaN    NaN   \n",
       "\n",
       "                 Sindarin Khuzdul    Rohirric Other    SHAPE_Leng  \\\n",
       "0    [field of] Celebrant     NaN         NaN   NaN  3.727657e+05   \n",
       "1                     NaN     NaN  Firienfeld   NaN  4.367542e+03   \n",
       "2  [plateau of] Gorgoroth     NaN         NaN   NaN  5.635612e+06   \n",
       "\n",
       "     SHAPE_Area          x          y  \n",
       "0  2.598167e+09  48.686831   6.712481  \n",
       "1  1.376384e+06  45.530912   4.431309  \n",
       "2  3.640515e+10  43.736524  12.934796  "
      ]
     },
     "execution_count": 15,
     "metadata": {},
     "output_type": "execute_result"
    }
   ],
   "source": [
    "poi = pd.read_csv('final_geo_data/csv/poi_wgs84_xy_cleared.csv')\n",
    "poi.head(3)"
   ]
  },
  {
   "cell_type": "code",
   "execution_count": 18,
   "id": "0b29bb9e",
   "metadata": {},
   "outputs": [
    {
     "data": {
      "text/html": [
       "<div style=\"width:100%;\"><div style=\"position:relative;width:100%;height:0;padding-bottom:60%;\"><span style=\"color:#565656\">Make this Notebook Trusted to load map: File -> Trust Notebook</span><iframe srcdoc=\"&lt;!DOCTYPE html&gt;\n",
       "&lt;head&gt;    \n",
       "    &lt;meta http-equiv=&quot;content-type&quot; content=&quot;text/html; charset=UTF-8&quot; /&gt;\n",
       "    \n",
       "        &lt;script&gt;\n",
       "            L_NO_TOUCH = false;\n",
       "            L_DISABLE_3D = false;\n",
       "        &lt;/script&gt;\n",
       "    \n",
       "    &lt;style&gt;html, body {width: 100%;height: 100%;margin: 0;padding: 0;}&lt;/style&gt;\n",
       "    &lt;style&gt;#map {position:absolute;top:0;bottom:0;right:0;left:0;}&lt;/style&gt;\n",
       "    &lt;script src=&quot;https://cdn.jsdelivr.net/npm/leaflet@1.6.0/dist/leaflet.js&quot;&gt;&lt;/script&gt;\n",
       "    &lt;script src=&quot;https://code.jquery.com/jquery-1.12.4.min.js&quot;&gt;&lt;/script&gt;\n",
       "    &lt;script src=&quot;https://maxcdn.bootstrapcdn.com/bootstrap/3.2.0/js/bootstrap.min.js&quot;&gt;&lt;/script&gt;\n",
       "    &lt;script src=&quot;https://cdnjs.cloudflare.com/ajax/libs/Leaflet.awesome-markers/2.0.2/leaflet.awesome-markers.js&quot;&gt;&lt;/script&gt;\n",
       "    &lt;link rel=&quot;stylesheet&quot; href=&quot;https://cdn.jsdelivr.net/npm/leaflet@1.6.0/dist/leaflet.css&quot;/&gt;\n",
       "    &lt;link rel=&quot;stylesheet&quot; href=&quot;https://maxcdn.bootstrapcdn.com/bootstrap/3.2.0/css/bootstrap.min.css&quot;/&gt;\n",
       "    &lt;link rel=&quot;stylesheet&quot; href=&quot;https://maxcdn.bootstrapcdn.com/bootstrap/3.2.0/css/bootstrap-theme.min.css&quot;/&gt;\n",
       "    &lt;link rel=&quot;stylesheet&quot; href=&quot;https://maxcdn.bootstrapcdn.com/font-awesome/4.6.3/css/font-awesome.min.css&quot;/&gt;\n",
       "    &lt;link rel=&quot;stylesheet&quot; href=&quot;https://cdnjs.cloudflare.com/ajax/libs/Leaflet.awesome-markers/2.0.2/leaflet.awesome-markers.css&quot;/&gt;\n",
       "    &lt;link rel=&quot;stylesheet&quot; href=&quot;https://cdn.jsdelivr.net/gh/python-visualization/folium/folium/templates/leaflet.awesome.rotate.min.css&quot;/&gt;\n",
       "    \n",
       "            &lt;meta name=&quot;viewport&quot; content=&quot;width=device-width,\n",
       "                initial-scale=1.0, maximum-scale=1.0, user-scalable=no&quot; /&gt;\n",
       "            &lt;style&gt;\n",
       "                #map_fead4f53e9718f9956b094cabf5691e5 {\n",
       "                    position: relative;\n",
       "                    width: 100.0%;\n",
       "                    height: 100.0%;\n",
       "                    left: 0.0%;\n",
       "                    top: 0.0%;\n",
       "                }\n",
       "            &lt;/style&gt;\n",
       "        \n",
       "&lt;/head&gt;\n",
       "&lt;body&gt;    \n",
       "    \n",
       "            &lt;div class=&quot;folium-map&quot; id=&quot;map_fead4f53e9718f9956b094cabf5691e5&quot; &gt;&lt;/div&gt;\n",
       "        \n",
       "&lt;/body&gt;\n",
       "&lt;script&gt;    \n",
       "    \n",
       "            var map_fead4f53e9718f9956b094cabf5691e5 = L.map(\n",
       "                &quot;map_fead4f53e9718f9956b094cabf5691e5&quot;,\n",
       "                {\n",
       "                    center: [52.5470612825, 8.8322798062],\n",
       "                    crs: L.CRS.EPSG3857,\n",
       "                    zoom: 5,\n",
       "                    zoomControl: true,\n",
       "                    preferCanvas: false,\n",
       "                }\n",
       "            );\n",
       "\n",
       "            \n",
       "\n",
       "        \n",
       "    \n",
       "            var tile_layer_686aea3d91dccd82e8335b7fe351449c = L.tileLayer(\n",
       "                &quot;https://{s}.tile.openstreetmap.org/{z}/{x}/{y}.png&quot;,\n",
       "                {&quot;attribution&quot;: &quot;Data by \\u0026copy; \\u003ca href=\\&quot;http://openstreetmap.org\\&quot;\\u003eOpenStreetMap\\u003c/a\\u003e, under \\u003ca href=\\&quot;http://www.openstreetmap.org/copyright\\&quot;\\u003eODbL\\u003c/a\\u003e.&quot;, &quot;detectRetina&quot;: false, &quot;maxNativeZoom&quot;: 18, &quot;maxZoom&quot;: 18, &quot;minZoom&quot;: 0, &quot;noWrap&quot;: false, &quot;opacity&quot;: 1, &quot;subdomains&quot;: &quot;abc&quot;, &quot;tms&quot;: false}\n",
       "            ).addTo(map_fead4f53e9718f9956b094cabf5691e5);\n",
       "        \n",
       "    \n",
       "            var marker_af79e42b452a899ecd20a69981cb7462 = L.marker(\n",
       "                [49.4945077089, 8.1286725884],\n",
       "                {}\n",
       "            ).addTo(map_fead4f53e9718f9956b094cabf5691e5);\n",
       "        \n",
       "&lt;/script&gt;\" style=\"position:absolute;width:100%;height:100%;left:0;top:0;border:none !important;\" allowfullscreen webkitallowfullscreen mozallowfullscreen></iframe></div></div>"
      ],
      "text/plain": [
       "<folium.folium.Map at 0x1aaeaa530>"
      ]
     },
     "execution_count": 18,
     "metadata": {},
     "output_type": "execute_result"
    }
   ],
   "source": [
    "folium.Marker(\n",
    "    location=[49.4945077089,8.1286725884]\n",
    ").add_to(my_map)\n",
    "my_map"
   ]
  },
  {
   "cell_type": "code",
   "execution_count": 39,
   "id": "2f0e9e49",
   "metadata": {},
   "outputs": [
    {
     "ename": "ValueError",
     "evalue": "Location should consist of two numerical values, but 0     49.494508\n1     44.125308\n2     44.828908\n3     42.771597\n4     44.308084\n5     49.494508\n6     44.828908\n7     45.226494\n8     52.989497\n9     44.125308\n10    50.097028\nName: x, dtype: float64 of type <class 'pandas.core.series.Series'> is not convertible to float.",
     "output_type": "error",
     "traceback": [
      "\u001b[0;31m---------------------------------------------------------------------------\u001b[0m",
      "\u001b[0;31mTypeError\u001b[0m                                 Traceback (most recent call last)",
      "File \u001b[0;32m~/opt/anaconda3/envs/geo_env/lib/python3.10/site-packages/folium/utilities.py:60\u001b[0m, in \u001b[0;36mvalidate_location\u001b[0;34m(location)\u001b[0m\n\u001b[1;32m     59\u001b[0m \u001b[39mtry\u001b[39;00m:\n\u001b[0;32m---> 60\u001b[0m     \u001b[39mfloat\u001b[39;49m(coord)\n\u001b[1;32m     61\u001b[0m \u001b[39mexcept\u001b[39;00m (\u001b[39mTypeError\u001b[39;00m, \u001b[39mValueError\u001b[39;00m):\n",
      "File \u001b[0;32m~/opt/anaconda3/envs/geo_env/lib/python3.10/site-packages/pandas/core/series.py:191\u001b[0m, in \u001b[0;36m_coerce_method.<locals>.wrapper\u001b[0;34m(self)\u001b[0m\n\u001b[1;32m    190\u001b[0m     \u001b[39mreturn\u001b[39;00m converter(\u001b[39mself\u001b[39m\u001b[39m.\u001b[39miloc[\u001b[39m0\u001b[39m])\n\u001b[0;32m--> 191\u001b[0m \u001b[39mraise\u001b[39;00m \u001b[39mTypeError\u001b[39;00m(\u001b[39mf\u001b[39m\u001b[39m\"\u001b[39m\u001b[39mcannot convert the series to \u001b[39m\u001b[39m{\u001b[39;00mconverter\u001b[39m}\u001b[39;00m\u001b[39m\"\u001b[39m)\n",
      "\u001b[0;31mTypeError\u001b[0m: cannot convert the series to <class 'float'>",
      "\nDuring handling of the above exception, another exception occurred:\n",
      "\u001b[0;31mValueError\u001b[0m                                Traceback (most recent call last)",
      "\u001b[1;32m/Users/rainylty/STUDY/IVth/datascience/summer_school/summoning_and_lotr/Viz_of_Summoning_and_Middle_Earth/data_viz.ipynb Cell 5\u001b[0m in \u001b[0;36m<cell line: 9>\u001b[0;34m()\u001b[0m\n\u001b[1;32m      <a href='vscode-notebook-cell:/Users/rainylty/STUDY/IVth/datascience/summer_school/summoning_and_lotr/Viz_of_Summoning_and_Middle_Earth/data_viz.ipynb#W5sZmlsZQ%3D%3D?line=6'>7</a>\u001b[0m df_ov_test_poi \u001b[39m=\u001b[39m test_poi[\u001b[39m1\u001b[39m:\u001b[39m9\u001b[39m]\n\u001b[1;32m      <a href='vscode-notebook-cell:/Users/rainylty/STUDY/IVth/datascience/summer_school/summoning_and_lotr/Viz_of_Summoning_and_Middle_Earth/data_viz.ipynb#W5sZmlsZQ%3D%3D?line=8'>9</a>\u001b[0m \u001b[39mfor\u001b[39;00m _, poi \u001b[39min\u001b[39;00m df_ov_test_poi\u001b[39m.\u001b[39miterrows():\n\u001b[0;32m---> <a href='vscode-notebook-cell:/Users/rainylty/STUDY/IVth/datascience/summer_school/summoning_and_lotr/Viz_of_Summoning_and_Middle_Earth/data_viz.ipynb#W5sZmlsZQ%3D%3D?line=9'>10</a>\u001b[0m     folium\u001b[39m.\u001b[39;49mMarker(\n\u001b[1;32m     <a href='vscode-notebook-cell:/Users/rainylty/STUDY/IVth/datascience/summer_school/summoning_and_lotr/Viz_of_Summoning_and_Middle_Earth/data_viz.ipynb#W5sZmlsZQ%3D%3D?line=10'>11</a>\u001b[0m     location\u001b[39m=\u001b[39;49m[pd\u001b[39m.\u001b[39;49mto_numeric(test_poi[\u001b[39m'\u001b[39;49m\u001b[39mx\u001b[39;49m\u001b[39m'\u001b[39;49m], errors\u001b[39m=\u001b[39;49m\u001b[39m'\u001b[39;49m\u001b[39mcoerce\u001b[39;49m\u001b[39m'\u001b[39;49m),pd\u001b[39m.\u001b[39;49mto_numeric(test_poi[\u001b[39m'\u001b[39;49m\u001b[39my\u001b[39;49m\u001b[39m'\u001b[39;49m], errors\u001b[39m=\u001b[39;49m\u001b[39m'\u001b[39;49m\u001b[39mcoerce\u001b[39;49m\u001b[39m'\u001b[39;49m)]\n\u001b[1;32m     <a href='vscode-notebook-cell:/Users/rainylty/STUDY/IVth/datascience/summer_school/summoning_and_lotr/Viz_of_Summoning_and_Middle_Earth/data_viz.ipynb#W5sZmlsZQ%3D%3D?line=11'>12</a>\u001b[0m     )\u001b[39m.\u001b[39madd_to(my_map)\n\u001b[1;32m     <a href='vscode-notebook-cell:/Users/rainylty/STUDY/IVth/datascience/summer_school/summoning_and_lotr/Viz_of_Summoning_and_Middle_Earth/data_viz.ipynb#W5sZmlsZQ%3D%3D?line=13'>14</a>\u001b[0m my_map\n",
      "File \u001b[0;32m~/opt/anaconda3/envs/geo_env/lib/python3.10/site-packages/folium/map.py:277\u001b[0m, in \u001b[0;36mMarker.__init__\u001b[0;34m(self, location, popup, tooltip, icon, draggable, **kwargs)\u001b[0m\n\u001b[1;32m    275\u001b[0m \u001b[39msuper\u001b[39m(Marker, \u001b[39mself\u001b[39m)\u001b[39m.\u001b[39m\u001b[39m__init__\u001b[39m()\n\u001b[1;32m    276\u001b[0m \u001b[39mself\u001b[39m\u001b[39m.\u001b[39m_name \u001b[39m=\u001b[39m \u001b[39m'\u001b[39m\u001b[39mMarker\u001b[39m\u001b[39m'\u001b[39m\n\u001b[0;32m--> 277\u001b[0m \u001b[39mself\u001b[39m\u001b[39m.\u001b[39mlocation \u001b[39m=\u001b[39m validate_location(location) \u001b[39mif\u001b[39;00m location \u001b[39melse\u001b[39;00m \u001b[39mNone\u001b[39;00m\n\u001b[1;32m    278\u001b[0m \u001b[39mself\u001b[39m\u001b[39m.\u001b[39moptions \u001b[39m=\u001b[39m parse_options(\n\u001b[1;32m    279\u001b[0m     draggable\u001b[39m=\u001b[39mdraggable \u001b[39mor\u001b[39;00m \u001b[39mNone\u001b[39;00m,\n\u001b[1;32m    280\u001b[0m     autoPan\u001b[39m=\u001b[39mdraggable \u001b[39mor\u001b[39;00m \u001b[39mNone\u001b[39;00m,\n\u001b[1;32m    281\u001b[0m     \u001b[39m*\u001b[39m\u001b[39m*\u001b[39mkwargs\n\u001b[1;32m    282\u001b[0m )\n\u001b[1;32m    283\u001b[0m \u001b[39mif\u001b[39;00m icon \u001b[39mis\u001b[39;00m \u001b[39mnot\u001b[39;00m \u001b[39mNone\u001b[39;00m:\n",
      "File \u001b[0;32m~/opt/anaconda3/envs/geo_env/lib/python3.10/site-packages/folium/utilities.py:62\u001b[0m, in \u001b[0;36mvalidate_location\u001b[0;34m(location)\u001b[0m\n\u001b[1;32m     60\u001b[0m     \u001b[39mfloat\u001b[39m(coord)\n\u001b[1;32m     61\u001b[0m \u001b[39mexcept\u001b[39;00m (\u001b[39mTypeError\u001b[39;00m, \u001b[39mValueError\u001b[39;00m):\n\u001b[0;32m---> 62\u001b[0m     \u001b[39mraise\u001b[39;00m \u001b[39mValueError\u001b[39;00m(\u001b[39m'\u001b[39m\u001b[39mLocation should consist of two numerical values, \u001b[39m\u001b[39m'\u001b[39m\n\u001b[1;32m     63\u001b[0m                      \u001b[39m'\u001b[39m\u001b[39mbut \u001b[39m\u001b[39m{!r}\u001b[39;00m\u001b[39m of type \u001b[39m\u001b[39m{}\u001b[39;00m\u001b[39m is not convertible to float.\u001b[39m\u001b[39m'\u001b[39m\n\u001b[1;32m     64\u001b[0m                      \u001b[39m.\u001b[39mformat(coord, \u001b[39mtype\u001b[39m(coord)))\n\u001b[1;32m     65\u001b[0m \u001b[39mif\u001b[39;00m math\u001b[39m.\u001b[39misnan(\u001b[39mfloat\u001b[39m(coord)):\n\u001b[1;32m     66\u001b[0m     \u001b[39mraise\u001b[39;00m \u001b[39mValueError\u001b[39;00m(\u001b[39m'\u001b[39m\u001b[39mLocation values cannot contain NaNs.\u001b[39m\u001b[39m'\u001b[39m)\n",
      "\u001b[0;31mValueError\u001b[0m: Location should consist of two numerical values, but 0     49.494508\n1     44.125308\n2     44.828908\n3     42.771597\n4     44.308084\n5     49.494508\n6     44.828908\n7     45.226494\n8     52.989497\n9     44.125308\n10    50.097028\nName: x, dtype: float64 of type <class 'pandas.core.series.Series'> is not convertible to float."
     ]
    }
   ],
   "source": [
    "test_poi = pd.read_excel('final_geo_data/csv/obvious_poi.xlsx')\n",
    "\n",
    "# lat = pd.to_numeric(test_poi['x'], errors='coerce')\n",
    "\n",
    "# long = pd.to_numeric(test_poi['y'], errors='coerce')\n",
    "\n",
    "df_ov_test_poi = test_poi[1:9]\n",
    "\n",
    "for _, poi in df_ov_test_poi.iterrows():\n",
    "    folium.Marker(\n",
    "    location=[pd.to_numeric(test_poi['x'], errors='coerce'),pd.to_numeric(test_poi['y'], errors='coerce')]\n",
    "    ).add_to(my_map)\n",
    "\n",
    "my_map"
   ]
  },
  {
   "cell_type": "code",
   "execution_count": null,
   "id": "aac3d230",
   "metadata": {},
   "outputs": [],
   "source": [
    "# lat = pd.to_numeric(test_poi['x'], errors='coerce')\n",
    "\n",
    "# long = pd.to_numeric(test_poi['y'], errors='coerce')"
   ]
  },
  {
   "cell_type": "code",
   "execution_count": 36,
   "id": "e4e7ab6c",
   "metadata": {},
   "outputs": [
    {
     "data": {
      "text/plain": [
       "0      8.128673\n",
       "1      9.436244\n",
       "2      4.738755\n",
       "3     -0.489866\n",
       "4      4.310990\n",
       "5      8.128673\n",
       "6      4.738755\n",
       "7      4.508067\n",
       "8     10.791920\n",
       "9      9.436244\n",
       "10     4.127051\n",
       "Name: y, dtype: float64"
      ]
     },
     "execution_count": 36,
     "metadata": {},
     "output_type": "execute_result"
    }
   ],
   "source": [
    "test_poi = pd.read_excel('final_geo_data/csv/obvious_poi.xlsx')\n",
    "\n",
    "lat = pd.to_numeric(test_poi['x'], errors='coerce')\n",
    "\n",
    "long = pd.to_numeric(test_poi['y'], errors='coerce')\n"
   ]
  },
  {
   "cell_type": "markdown",
   "id": "c9da758a",
   "metadata": {},
   "source": []
  },
  {
   "cell_type": "markdown",
   "id": "7ab91885",
   "metadata": {},
   "source": []
  }
 ],
 "metadata": {
  "kernelspec": {
   "display_name": "Python 3.10.5 ('geo_env')",
   "language": "python",
   "name": "python3"
  },
  "language_info": {
   "codemirror_mode": {
    "name": "ipython",
    "version": 3
   },
   "file_extension": ".py",
   "mimetype": "text/x-python",
   "name": "python",
   "nbconvert_exporter": "python",
   "pygments_lexer": "ipython3",
   "version": "3.10.5"
  },
  "vscode": {
   "interpreter": {
    "hash": "65e2cb842e6cf65c161604f06566be98a06353bd64fb7cf6b38736cc31aa9aa7"
   }
  }
 },
 "nbformat": 4,
 "nbformat_minor": 5
}
