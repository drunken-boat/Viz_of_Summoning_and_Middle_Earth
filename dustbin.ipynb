{
 "cells": [
  {
   "cell_type": "code",
   "execution_count": null,
   "metadata": {},
   "outputs": [],
   "source": [
    "def read_and_save():\n",
    "    gpd.read_file\n",
    "    return os.path.basename(file) + \"gdf\"\n",
    "\n",
    "for file in os.listdir(geo_dir):\n",
    "    if file.endswith('.shp'):\n",
    "        gdf_name = os.path.basename(file) + \"gdf\"\n",
    "        gdf = gpd.read_file(file)\n",
    "        print(gdf.head())\n",
    "          \n",
    "    else:\n",
    "        continue"
   ]
  }
 ],
 "metadata": {
  "language_info": {
   "name": "python"
  },
  "orig_nbformat": 4
 },
 "nbformat": 4,
 "nbformat_minor": 2
}
