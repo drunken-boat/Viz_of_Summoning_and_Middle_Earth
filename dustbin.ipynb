{
 "cells": [
  {
   "cell_type": "code",
   "execution_count": null,
   "metadata": {},
   "outputs": [],
   "source": [
    "def read_and_save():\n",
    "    gpd.read_file\n",
    "    return os.path.basename(file) + \"gdf\"\n",
    "\n",
    "for file in os.listdir(geo_dir):\n",
    "    if file.endswith('.shp'):\n",
    "        gdf_name = os.path.basename(file) + \"gdf\"\n",
    "        gdf = gpd.read_file(file)\n",
    "        print(gdf.head())\n",
    "          \n",
    "    else:\n",
    "        continue"
   ]
  }
 ],
 "metadata": {
  "kernelspec": {
   "display_name": "Python 3.9.12 ('base')",
   "language": "python",
   "name": "python3"
  },
  "language_info": {
   "name": "python",
   "version": "3.9.12"
  },
  "orig_nbformat": 4,
  "vscode": {
   "interpreter": {
    "hash": "a2e190b3784574333b73495abb0d3069aafcaed72d867b6070a8331875d2099d"
   }
  }
 },
 "nbformat": 4,
 "nbformat_minor": 2
}
