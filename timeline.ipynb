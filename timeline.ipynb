{
 "cells": [
  {
   "cell_type": "code",
   "execution_count": 28,
   "metadata": {},
   "outputs": [
    {
     "data": {
      "image/png": "[encoded data removed]",
      "text/plain": [
       "<Figure size 432x288 with 1 Axes>"
      ]
     },
     "metadata": {
      "needs_background": "light"
     },
     "output_type": "display_data"
    }
   ],
   "source": [
    "import matplotlib.pyplot as plt\n",
    "\n",
    "# Horizontal bar plot with gaps\n",
    "fig, ax = plt.subplots()\n",
    "ax.broken_barh([(0, 3500)],(10, 5),facecolors='tab:blue')\n",
    "ax.broken_barh([(3500, 1500)], (20, 5),\n",
    "               facecolors='tab:orange')\n",
    "ax.broken_barh([(5000, 7052)],(30, 5),facecolors='tab:green')               \n",
    "ax.set_ylim(5, 35)\n",
    "ax.set_xlim(0, 15000)\n",
    "ax.set_xlabel('Years of Arda')\n",
    "ax.set_xticks([0,3500,5000], labels=['YV1','YV3500','YT1500'])\n",
    "ax.set_yticks([15, 25, 35], labels=['Year of the Valar', 'Year of the Tree', 'Year of the Sun'])    \n",
    "ax.grid(True)                                       \n",
    "# ax.annotate('race interrupted', (61, 25),\n",
    "            # xytext=(0.8, 0.9), textcoords='axes fraction',\n",
    "            # arrowprops=dict(facecolor='black', shrink=0.05),\n",
    "            # fontsize=16,\n",
    "            # horizontalalignment='right', verticalalignment='top')\n",
    "\n",
    "plt.show()"
   ]
  },
  {
   "cell_type": "code",
   "execution_count": 87,
   "metadata": {},
   "outputs": [
    {
     "data": {
      "image/png": "[encoded data removed]",
      "text/plain": [
       "<Figure size 432x288 with 1 Axes>"
      ]
     },
     "metadata": {
      "needs_background": "light"
     },
     "output_type": "display_data"
    }
   ],
   "source": [
    "import matplotlib.pyplot as plt\n",
    "from matplotlib.cm import get_cmap\n",
    "\n",
    "# Horizontal bar plot with gaps\n",
    "fig, ax = plt.subplots()\n",
    "\n",
    "name = \"Dark2\"\n",
    "cmap = get_cmap(name)  \n",
    "colors = cmap.colors\n",
    "ax.set_prop_cycle(color=colors)\n",
    "\n",
    "fa = ax.broken_barh([(4500, 1040)], (24, 4),facecolors='tab:green') \n",
    "sa = ax.broken_barh([(5540, 3441)], (30, 4),facecolors='tab:green') \n",
    "ta = ax.broken_barh([(8981, 3021)], (36, 4),facecolors='tab:orange') \n",
    "fva = ax.broken_barh([(12002, 2000)], (42, 4)) \n",
    "\n",
    "v = ax.broken_barh([(0, 3500)],(6, 4))\n",
    "t = ax.broken_barh([(3500, 1500)], (12, 4),\n",
    "               )\n",
    "s = ax.broken_barh([(5000, 14002)],(18, 4)) \n",
    "# fa = ax.broken_barh([4500, 490], (24, 4))              \n",
    "ax.set_ylim(4, 48)\n",
    "ax.set_xlim(0, 14000)\n",
    "ax.set_xlabel('Years of Arda')\n",
    "ax.set_xticks([0,3500,5000,12002,8981, 14000], labels=['YV1','YV3500','YT1500','TA3021','TA1','Unknown'])\n",
    "ax.set_yticks([8, 14, 20, 26, 32, 38, 44], labels=['Year of the Valar', 'Year of the Tree', 'Year of the Sun', 'First Age', 'Second Age', 'Third Age', 'Fourth Age'])    \n",
    "ax.grid(True, axis='x', color='0.8')  \n",
    "               \n",
    "# ax.annotate('race interrupted', (61, 25),\n",
    "            # xytext=(0.8, 0.9), textcoords='axes fraction',\n",
    "            # arrowprops=dict(facecolor='black', shrink=0.05),\n",
    "            # fontsize=16,\n",
    "            # horizontalalignment='right', verticalalignment='top')\n",
    "\n",
    "\n",
    "plt.show()"
   ]
  },
  {
   "cell_type": "code",
   "execution_count": null,
   "metadata": {},
   "outputs": [],
   "source": []
  }
 ],
 "metadata": {
  "kernelspec": {
   "display_name": "Python 3.10.5 ('geo_env')",
   "language": "python",
   "name": "python3"
  },
  "language_info": {
   "codemirror_mode": {
    "name": "ipython",
    "version": 3
   },
   "file_extension": ".py",
   "mimetype": "text/x-python",
   "name": "python",
   "nbconvert_exporter": "python",
   "pygments_lexer": "ipython3",
   "version": "3.10.5"
  },
  "orig_nbformat": 4,
  "vscode": {
   "interpreter": {
    "hash": "65e2cb842e6cf65c161604f06566be98a06353bd64fb7cf6b38736cc31aa9aa7"
   }
  }
 },
 "nbformat": 4,
 "nbformat_minor": 2
}
